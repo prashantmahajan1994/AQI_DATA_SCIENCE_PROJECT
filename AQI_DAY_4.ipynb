{
 "cells": [
  {
   "cell_type": "code",
   "execution_count": 1,
   "id": "4325943a",
   "metadata": {},
   "outputs": [],
   "source": [
    "import pandas as pd\n",
    "from sklearn.preprocessing import StandardScaler\n",
    "def year_range(start,end):\n",
    "    df_list=[]\n",
    "    for year in range(start,end):\n",
    "        df=pd.read_csv(f\"data/real_data/real_{year}.csv\")\n",
    "        df_list.append(df)\n",
    "    return pd.concat(df_list,ignore_index=True)"
   ]
  },
  {
   "cell_type": "code",
   "execution_count": 2,
   "id": "d4592aa8",
   "metadata": {},
   "outputs": [],
   "source": [
    "df=year_range(2013,2017)"
   ]
  },
  {
   "cell_type": "code",
   "execution_count": 3,
   "id": "08ec995b",
   "metadata": {},
   "outputs": [
    {
     "data": {
      "text/html": [
       "<div>\n",
       "<style scoped>\n",
       "    .dataframe tbody tr th:only-of-type {\n",
       "        vertical-align: middle;\n",
       "    }\n",
       "\n",
       "    .dataframe tbody tr th {\n",
       "        vertical-align: top;\n",
       "    }\n",
       "\n",
       "    .dataframe thead th {\n",
       "        text-align: right;\n",
       "    }\n",
       "</style>\n",
       "<table border=\"1\" class=\"dataframe\">\n",
       "  <thead>\n",
       "    <tr style=\"text-align: right;\">\n",
       "      <th></th>\n",
       "      <th>T</th>\n",
       "      <th>TM</th>\n",
       "      <th>tm</th>\n",
       "      <th>SLP</th>\n",
       "      <th>H</th>\n",
       "      <th>VV</th>\n",
       "      <th>V</th>\n",
       "      <th>VM</th>\n",
       "      <th>PM 2.5</th>\n",
       "    </tr>\n",
       "  </thead>\n",
       "  <tbody>\n",
       "    <tr>\n",
       "      <th>0</th>\n",
       "      <td>7.4</td>\n",
       "      <td>9.8</td>\n",
       "      <td>4.8</td>\n",
       "      <td>1017.6</td>\n",
       "      <td>93</td>\n",
       "      <td>0.5</td>\n",
       "      <td>4.3</td>\n",
       "      <td>9.4</td>\n",
       "      <td>219.720833</td>\n",
       "    </tr>\n",
       "    <tr>\n",
       "      <th>1</th>\n",
       "      <td>7.8</td>\n",
       "      <td>12.7</td>\n",
       "      <td>4.4</td>\n",
       "      <td>1018.5</td>\n",
       "      <td>87</td>\n",
       "      <td>0.6</td>\n",
       "      <td>4.4</td>\n",
       "      <td>11.1</td>\n",
       "      <td>182.187500</td>\n",
       "    </tr>\n",
       "    <tr>\n",
       "      <th>2</th>\n",
       "      <td>6.7</td>\n",
       "      <td>13.4</td>\n",
       "      <td>2.4</td>\n",
       "      <td>1019.4</td>\n",
       "      <td>82</td>\n",
       "      <td>0.6</td>\n",
       "      <td>4.8</td>\n",
       "      <td>11.1</td>\n",
       "      <td>154.037500</td>\n",
       "    </tr>\n",
       "    <tr>\n",
       "      <th>3</th>\n",
       "      <td>8.6</td>\n",
       "      <td>15.5</td>\n",
       "      <td>3.3</td>\n",
       "      <td>1018.7</td>\n",
       "      <td>72</td>\n",
       "      <td>0.8</td>\n",
       "      <td>8.1</td>\n",
       "      <td>20.6</td>\n",
       "      <td>223.208333</td>\n",
       "    </tr>\n",
       "    <tr>\n",
       "      <th>4</th>\n",
       "      <td>12.4</td>\n",
       "      <td>20.9</td>\n",
       "      <td>4.4</td>\n",
       "      <td>1017.3</td>\n",
       "      <td>61</td>\n",
       "      <td>1.3</td>\n",
       "      <td>8.7</td>\n",
       "      <td>22.2</td>\n",
       "      <td>200.645833</td>\n",
       "    </tr>\n",
       "    <tr>\n",
       "      <th>...</th>\n",
       "      <td>...</td>\n",
       "      <td>...</td>\n",
       "      <td>...</td>\n",
       "      <td>...</td>\n",
       "      <td>...</td>\n",
       "      <td>...</td>\n",
       "      <td>...</td>\n",
       "      <td>...</td>\n",
       "      <td>...</td>\n",
       "    </tr>\n",
       "    <tr>\n",
       "      <th>726</th>\n",
       "      <td>18.1</td>\n",
       "      <td>24.0</td>\n",
       "      <td>11.2</td>\n",
       "      <td>1015.4</td>\n",
       "      <td>56</td>\n",
       "      <td>1.8</td>\n",
       "      <td>15.9</td>\n",
       "      <td>25.9</td>\n",
       "      <td>288.416667</td>\n",
       "    </tr>\n",
       "    <tr>\n",
       "      <th>727</th>\n",
       "      <td>17.8</td>\n",
       "      <td>25.0</td>\n",
       "      <td>10.7</td>\n",
       "      <td>1015.8</td>\n",
       "      <td>54</td>\n",
       "      <td>2.3</td>\n",
       "      <td>9.4</td>\n",
       "      <td>22.2</td>\n",
       "      <td>256.833333</td>\n",
       "    </tr>\n",
       "    <tr>\n",
       "      <th>728</th>\n",
       "      <td>13.9</td>\n",
       "      <td>24.5</td>\n",
       "      <td>11.4</td>\n",
       "      <td>1015.0</td>\n",
       "      <td>95</td>\n",
       "      <td>0.6</td>\n",
       "      <td>8.7</td>\n",
       "      <td>14.8</td>\n",
       "      <td>169.000000</td>\n",
       "    </tr>\n",
       "    <tr>\n",
       "      <th>729</th>\n",
       "      <td>16.3</td>\n",
       "      <td>23.0</td>\n",
       "      <td>9.8</td>\n",
       "      <td>1016.9</td>\n",
       "      <td>78</td>\n",
       "      <td>1.1</td>\n",
       "      <td>7.4</td>\n",
       "      <td>16.5</td>\n",
       "      <td>186.041667</td>\n",
       "    </tr>\n",
       "    <tr>\n",
       "      <th>730</th>\n",
       "      <td>16.3</td>\n",
       "      <td>23.4</td>\n",
       "      <td>9.0</td>\n",
       "      <td>1017.3</td>\n",
       "      <td>68</td>\n",
       "      <td>1.3</td>\n",
       "      <td>7.8</td>\n",
       "      <td>18.3</td>\n",
       "      <td>185.583333</td>\n",
       "    </tr>\n",
       "  </tbody>\n",
       "</table>\n",
       "<p>731 rows × 9 columns</p>\n",
       "</div>"
      ],
      "text/plain": [
       "        T    TM    tm     SLP   H   VV     V    VM      PM 2.5\n",
       "0     7.4   9.8   4.8  1017.6  93  0.5   4.3   9.4  219.720833\n",
       "1     7.8  12.7   4.4  1018.5  87  0.6   4.4  11.1  182.187500\n",
       "2     6.7  13.4   2.4  1019.4  82  0.6   4.8  11.1  154.037500\n",
       "3     8.6  15.5   3.3  1018.7  72  0.8   8.1  20.6  223.208333\n",
       "4    12.4  20.9   4.4  1017.3  61  1.3   8.7  22.2  200.645833\n",
       "..    ...   ...   ...     ...  ..  ...   ...   ...         ...\n",
       "726  18.1  24.0  11.2  1015.4  56  1.8  15.9  25.9  288.416667\n",
       "727  17.8  25.0  10.7  1015.8  54  2.3   9.4  22.2  256.833333\n",
       "728  13.9  24.5  11.4  1015.0  95  0.6   8.7  14.8  169.000000\n",
       "729  16.3  23.0   9.8  1016.9  78  1.1   7.4  16.5  186.041667\n",
       "730  16.3  23.4   9.0  1017.3  68  1.3   7.8  18.3  185.583333\n",
       "\n",
       "[731 rows x 9 columns]"
      ]
     },
     "execution_count": 3,
     "metadata": {},
     "output_type": "execute_result"
    }
   ],
   "source": [
    "df"
   ]
  },
  {
   "cell_type": "code",
   "execution_count": 4,
   "id": "e79c58bd",
   "metadata": {},
   "outputs": [],
   "source": [
    "# which kind of ml model we have to apply\n",
    "    #classification or regression\n",
    "\n",
    "# types of regressionmodel\n",
    "    #linear regression \n",
    "    #Decision tree regressor\n",
    "    #random forest regressor\n",
    "    #knn regressor\n",
    "    #lasso regressor"
   ]
  },
  {
   "cell_type": "code",
   "execution_count": 5,
   "id": "57b4b63b",
   "metadata": {},
   "outputs": [
    {
     "data": {
      "text/plain": [
       "T         0\n",
       "TM        0\n",
       "tm        0\n",
       "SLP       0\n",
       "H         0\n",
       "VV        0\n",
       "V         0\n",
       "VM        0\n",
       "PM 2.5    1\n",
       "dtype: int64"
      ]
     },
     "execution_count": 5,
     "metadata": {},
     "output_type": "execute_result"
    }
   ],
   "source": [
    "df.isnull().sum()"
   ]
  },
  {
   "cell_type": "code",
   "execution_count": 6,
   "id": "77714b4c",
   "metadata": {},
   "outputs": [],
   "source": [
    "#remove the nullvalue"
   ]
  },
  {
   "cell_type": "code",
   "execution_count": 7,
   "id": "d4927692",
   "metadata": {},
   "outputs": [],
   "source": [
    "df.dropna(inplace=True)"
   ]
  },
  {
   "cell_type": "code",
   "execution_count": 8,
   "id": "4b6899ee",
   "metadata": {},
   "outputs": [
    {
     "data": {
      "text/plain": [
       "T         0\n",
       "TM        0\n",
       "tm        0\n",
       "SLP       0\n",
       "H         0\n",
       "VV        0\n",
       "V         0\n",
       "VM        0\n",
       "PM 2.5    0\n",
       "dtype: int64"
      ]
     },
     "execution_count": 8,
     "metadata": {},
     "output_type": "execute_result"
    }
   ],
   "source": [
    "df.isna().sum()"
   ]
  },
  {
   "cell_type": "code",
   "execution_count": 9,
   "id": "308cbf2d",
   "metadata": {},
   "outputs": [],
   "source": [
    "#saperate the dependent and independent variable"
   ]
  },
  {
   "cell_type": "code",
   "execution_count": 10,
   "id": "008918e7",
   "metadata": {},
   "outputs": [],
   "source": [
    "X=df.iloc[:,:-1]\n",
    "y=df.iloc[:,-1]"
   ]
  },
  {
   "cell_type": "code",
   "execution_count": 11,
   "id": "adff20d8",
   "metadata": {},
   "outputs": [],
   "source": [
    "#scaling"
   ]
  },
  {
   "cell_type": "code",
   "execution_count": 12,
   "id": "c30af2c9",
   "metadata": {},
   "outputs": [],
   "source": [
    "scaling=StandardScaler()\n",
    "X=scaling.fit_transform(X)"
   ]
  },
  {
   "cell_type": "code",
   "execution_count": 13,
   "id": "cffc6164",
   "metadata": {},
   "outputs": [],
   "source": [
    "df_feature=pd.DataFrame(X)"
   ]
  },
  {
   "cell_type": "markdown",
   "id": "fb529b01",
   "metadata": {},
   "source": [
    " 9 feature----> important feature -feature engineering\n",
    "coorelation matrix"
   ]
  },
  {
   "cell_type": "code",
   "execution_count": 14,
   "id": "cab391ca",
   "metadata": {},
   "outputs": [
    {
     "data": {
      "text/html": [
       "<div>\n",
       "<style scoped>\n",
       "    .dataframe tbody tr th:only-of-type {\n",
       "        vertical-align: middle;\n",
       "    }\n",
       "\n",
       "    .dataframe tbody tr th {\n",
       "        vertical-align: top;\n",
       "    }\n",
       "\n",
       "    .dataframe thead th {\n",
       "        text-align: right;\n",
       "    }\n",
       "</style>\n",
       "<table border=\"1\" class=\"dataframe\">\n",
       "  <thead>\n",
       "    <tr style=\"text-align: right;\">\n",
       "      <th></th>\n",
       "      <th>T</th>\n",
       "      <th>TM</th>\n",
       "      <th>tm</th>\n",
       "      <th>SLP</th>\n",
       "      <th>H</th>\n",
       "      <th>VV</th>\n",
       "      <th>V</th>\n",
       "      <th>VM</th>\n",
       "      <th>PM 2.5</th>\n",
       "    </tr>\n",
       "  </thead>\n",
       "  <tbody>\n",
       "    <tr>\n",
       "      <th>T</th>\n",
       "      <td>1.000000</td>\n",
       "      <td>0.967276</td>\n",
       "      <td>0.958892</td>\n",
       "      <td>-0.884383</td>\n",
       "      <td>-0.518870</td>\n",
       "      <td>0.622637</td>\n",
       "      <td>0.326067</td>\n",
       "      <td>0.287138</td>\n",
       "      <td>-0.628336</td>\n",
       "    </tr>\n",
       "    <tr>\n",
       "      <th>TM</th>\n",
       "      <td>0.967276</td>\n",
       "      <td>1.000000</td>\n",
       "      <td>0.896699</td>\n",
       "      <td>-0.829254</td>\n",
       "      <td>-0.599629</td>\n",
       "      <td>0.598479</td>\n",
       "      <td>0.320116</td>\n",
       "      <td>0.299508</td>\n",
       "      <td>-0.569381</td>\n",
       "    </tr>\n",
       "    <tr>\n",
       "      <th>tm</th>\n",
       "      <td>0.958892</td>\n",
       "      <td>0.896699</td>\n",
       "      <td>1.000000</td>\n",
       "      <td>-0.909514</td>\n",
       "      <td>-0.315305</td>\n",
       "      <td>0.560299</td>\n",
       "      <td>0.312904</td>\n",
       "      <td>0.259431</td>\n",
       "      <td>-0.669059</td>\n",
       "    </tr>\n",
       "    <tr>\n",
       "      <th>SLP</th>\n",
       "      <td>-0.884383</td>\n",
       "      <td>-0.829254</td>\n",
       "      <td>-0.909514</td>\n",
       "      <td>1.000000</td>\n",
       "      <td>0.274196</td>\n",
       "      <td>-0.491842</td>\n",
       "      <td>-0.346130</td>\n",
       "      <td>-0.299830</td>\n",
       "      <td>0.615615</td>\n",
       "    </tr>\n",
       "    <tr>\n",
       "      <th>H</th>\n",
       "      <td>-0.518870</td>\n",
       "      <td>-0.599629</td>\n",
       "      <td>-0.315305</td>\n",
       "      <td>0.274196</td>\n",
       "      <td>1.000000</td>\n",
       "      <td>-0.475279</td>\n",
       "      <td>-0.399079</td>\n",
       "      <td>-0.370981</td>\n",
       "      <td>0.174658</td>\n",
       "    </tr>\n",
       "    <tr>\n",
       "      <th>VV</th>\n",
       "      <td>0.622637</td>\n",
       "      <td>0.598479</td>\n",
       "      <td>0.560299</td>\n",
       "      <td>-0.491842</td>\n",
       "      <td>-0.475279</td>\n",
       "      <td>1.000000</td>\n",
       "      <td>0.402884</td>\n",
       "      <td>0.347493</td>\n",
       "      <td>-0.628621</td>\n",
       "    </tr>\n",
       "    <tr>\n",
       "      <th>V</th>\n",
       "      <td>0.326067</td>\n",
       "      <td>0.320116</td>\n",
       "      <td>0.312904</td>\n",
       "      <td>-0.346130</td>\n",
       "      <td>-0.399079</td>\n",
       "      <td>0.402884</td>\n",
       "      <td>1.000000</td>\n",
       "      <td>0.760777</td>\n",
       "      <td>-0.354799</td>\n",
       "    </tr>\n",
       "    <tr>\n",
       "      <th>VM</th>\n",
       "      <td>0.287138</td>\n",
       "      <td>0.299508</td>\n",
       "      <td>0.259431</td>\n",
       "      <td>-0.299830</td>\n",
       "      <td>-0.370981</td>\n",
       "      <td>0.347493</td>\n",
       "      <td>0.760777</td>\n",
       "      <td>1.000000</td>\n",
       "      <td>-0.283695</td>\n",
       "    </tr>\n",
       "    <tr>\n",
       "      <th>PM 2.5</th>\n",
       "      <td>-0.628336</td>\n",
       "      <td>-0.569381</td>\n",
       "      <td>-0.669059</td>\n",
       "      <td>0.615615</td>\n",
       "      <td>0.174658</td>\n",
       "      <td>-0.628621</td>\n",
       "      <td>-0.354799</td>\n",
       "      <td>-0.283695</td>\n",
       "      <td>1.000000</td>\n",
       "    </tr>\n",
       "  </tbody>\n",
       "</table>\n",
       "</div>"
      ],
      "text/plain": [
       "               T        TM        tm       SLP         H        VV         V  \\\n",
       "T       1.000000  0.967276  0.958892 -0.884383 -0.518870  0.622637  0.326067   \n",
       "TM      0.967276  1.000000  0.896699 -0.829254 -0.599629  0.598479  0.320116   \n",
       "tm      0.958892  0.896699  1.000000 -0.909514 -0.315305  0.560299  0.312904   \n",
       "SLP    -0.884383 -0.829254 -0.909514  1.000000  0.274196 -0.491842 -0.346130   \n",
       "H      -0.518870 -0.599629 -0.315305  0.274196  1.000000 -0.475279 -0.399079   \n",
       "VV      0.622637  0.598479  0.560299 -0.491842 -0.475279  1.000000  0.402884   \n",
       "V       0.326067  0.320116  0.312904 -0.346130 -0.399079  0.402884  1.000000   \n",
       "VM      0.287138  0.299508  0.259431 -0.299830 -0.370981  0.347493  0.760777   \n",
       "PM 2.5 -0.628336 -0.569381 -0.669059  0.615615  0.174658 -0.628621 -0.354799   \n",
       "\n",
       "              VM    PM 2.5  \n",
       "T       0.287138 -0.628336  \n",
       "TM      0.299508 -0.569381  \n",
       "tm      0.259431 -0.669059  \n",
       "SLP    -0.299830  0.615615  \n",
       "H      -0.370981  0.174658  \n",
       "VV      0.347493 -0.628621  \n",
       "V       0.760777 -0.354799  \n",
       "VM      1.000000 -0.283695  \n",
       "PM 2.5 -0.283695  1.000000  "
      ]
     },
     "execution_count": 14,
     "metadata": {},
     "output_type": "execute_result"
    }
   ],
   "source": [
    "df.corr()"
   ]
  },
  {
   "cell_type": "code",
   "execution_count": 15,
   "id": "9cc0a0d7",
   "metadata": {},
   "outputs": [],
   "source": [
    "import seaborn as sns"
   ]
  },
  {
   "cell_type": "code",
   "execution_count": 16,
   "id": "9b3d83a7",
   "metadata": {},
   "outputs": [
    {
     "data": {
      "text/plain": [
       "<AxesSubplot:>"
      ]
     },
     "execution_count": 16,
     "metadata": {},
     "output_type": "execute_result"
    },
    {
     "data": {
      "image/png": "[encoded data removed]",
      "text/plain": [
       "<Figure size 432x288 with 2 Axes>"
      ]
     },
     "metadata": {
      "needs_background": "light"
     },
     "output_type": "display_data"
    }
   ],
   "source": [
    "sns.heatmap(df.corr(),annot=True)"
   ]
  },
  {
   "cell_type": "code",
   "execution_count": 17,
   "id": "4ba87171",
   "metadata": {},
   "outputs": [],
   "source": [
    "##feature importance\n",
    "#you can get the feature importance of eachfeature of your dataset by using  a feature importance model\n",
    "#it willgive you the scaore for each feature of you data thea higher the score the more important the relavent the feature is"
   ]
  },
  {
   "cell_type": "code",
   "execution_count": 18,
   "id": "58506167",
   "metadata": {},
   "outputs": [
    {
     "data": {
      "text/plain": [
       "ExtraTreesRegressor()"
      ]
     },
     "execution_count": 18,
     "metadata": {},
     "output_type": "execute_result"
    }
   ],
   "source": [
    "from sklearn.ensemble import ExtraTreesRegressor\n",
    "import matplotlib.pyplot as plt\n",
    "model=ExtraTreesRegressor()\n",
    "model.fit(X,y)"
   ]
  },
  {
   "cell_type": "code",
   "execution_count": 19,
   "id": "4fbe3cd7",
   "metadata": {},
   "outputs": [
    {
     "data": {
      "text/plain": [
       "array([0.12083164, 0.08500208, 0.19099096, 0.15705133, 0.08322138,\n",
       "       0.27326937, 0.05074063, 0.03889261])"
      ]
     },
     "execution_count": 19,
     "metadata": {},
     "output_type": "execute_result"
    }
   ],
   "source": [
    "model.feature_importances_"
   ]
  },
  {
   "cell_type": "code",
   "execution_count": 20,
   "id": "00c19ef2",
   "metadata": {},
   "outputs": [
    {
     "data": {
      "text/plain": [
       "<AxesSubplot:>"
      ]
     },
     "execution_count": 20,
     "metadata": {},
     "output_type": "execute_result"
    },
    {
     "data": {
      "image/png": "[encoded data removed]",
      "text/plain": [
       "<Figure size 432x288 with 1 Axes>"
      ]
     },
     "metadata": {
      "needs_background": "light"
     },
     "output_type": "display_data"
    }
   ],
   "source": [
    "#plot the graph\n",
    "df_feature=df.iloc[:,:-1]\n",
    "feature_imp=pd.Series(model.feature_importances_,index=df_feature.columns)\n",
    "feature_imp.nlargest(5).plot(kind=\"barh\")"
   ]
  },
  {
   "cell_type": "code",
   "execution_count": 21,
   "id": "9636775a",
   "metadata": {},
   "outputs": [],
   "source": [
    "#train_test_split\n",
    "from sklearn.model_selection import train_test_split"
   ]
  },
  {
   "cell_type": "code",
   "execution_count": 22,
   "id": "ae748ad6",
   "metadata": {},
   "outputs": [],
   "source": [
    "X_train, X_test, y_train, y_test = train_test_split(X, y, test_size=0.2, random_state=101)"
   ]
  },
  {
   "cell_type": "code",
   "execution_count": 23,
   "id": "db7154e6",
   "metadata": {},
   "outputs": [],
   "source": [
    "from sklearn.linear_model import LinearRegression"
   ]
  },
  {
   "cell_type": "code",
   "execution_count": 24,
   "id": "5db38c79",
   "metadata": {},
   "outputs": [],
   "source": [
    "linear_regression=LinearRegression()"
   ]
  },
  {
   "cell_type": "code",
   "execution_count": 25,
   "id": "ba006718",
   "metadata": {},
   "outputs": [
    {
     "data": {
      "text/plain": [
       "LinearRegression()"
      ]
     },
     "execution_count": 25,
     "metadata": {},
     "output_type": "execute_result"
    }
   ],
   "source": [
    "linear_regression.fit(X_train,y_train)"
   ]
  },
  {
   "cell_type": "code",
   "execution_count": 27,
   "id": "0f50ddf1",
   "metadata": {},
   "outputs": [
    {
     "data": {
      "text/plain": [
       "0.5496879505109533"
      ]
     },
     "execution_count": 27,
     "metadata": {},
     "output_type": "execute_result"
    }
   ],
   "source": [
    "linear_regression.score(X_test,y_test)"
   ]
  },
  {
   "cell_type": "code",
   "execution_count": 29,
   "id": "6fdaec9b",
   "metadata": {},
   "outputs": [],
   "source": [
    "from sklearn.tree import DecisionTreeRegressor"
   ]
  },
  {
   "cell_type": "code",
   "execution_count": 30,
   "id": "23598391",
   "metadata": {},
   "outputs": [],
   "source": [
    "model2=DecisionTreeRegressor()"
   ]
  },
  {
   "cell_type": "code",
   "execution_count": 31,
   "id": "8e5ac0d7",
   "metadata": {},
   "outputs": [
    {
     "data": {
      "text/plain": [
       "DecisionTreeRegressor()"
      ]
     },
     "execution_count": 31,
     "metadata": {},
     "output_type": "execute_result"
    }
   ],
   "source": [
    "model2.fit(X_train,y_train)"
   ]
  },
  {
   "cell_type": "code",
   "execution_count": 32,
   "id": "1e1a8f80",
   "metadata": {},
   "outputs": [
    {
     "data": {
      "text/plain": [
       "0.5859976883557164"
      ]
     },
     "execution_count": 32,
     "metadata": {},
     "output_type": "execute_result"
    }
   ],
   "source": [
    "model2.score(X_test,y_test)"
   ]
  },
  {
   "cell_type": "code",
   "execution_count": 33,
   "id": "3dcdad0d",
   "metadata": {},
   "outputs": [
    {
     "data": {
      "text/plain": [
       "1.0"
      ]
     },
     "execution_count": 33,
     "metadata": {},
     "output_type": "execute_result"
    }
   ],
   "source": [
    "model2.score(X_train,y_train)"
   ]
  },
  {
   "cell_type": "code",
   "execution_count": 38,
   "id": "1e4340ae",
   "metadata": {},
   "outputs": [],
   "source": [
    "from sklearn.svm import SVR \n",
    "model=SVR()"
   ]
  },
  {
   "cell_type": "code",
   "execution_count": 39,
   "id": "2606ff81",
   "metadata": {},
   "outputs": [
    {
     "data": {
      "text/plain": [
       "SVR()"
      ]
     },
     "execution_count": 39,
     "metadata": {},
     "output_type": "execute_result"
    }
   ],
   "source": [
    "model.fit(X_train,y_train)"
   ]
  }
 ],
 "metadata": {
  "kernelspec": {
   "display_name": "Python 3 (ipykernel)",
   "language": "python",
   "name": "python3"
  },
  "language_info": {
   "codemirror_mode": {
    "name": "ipython",
    "version": 3
   },
   "file_extension": ".py",
   "mimetype": "text/x-python",
   "name": "python",
   "nbconvert_exporter": "python",
   "pygments_lexer": "ipython3",
   "version": "3.9.7"
  }
 },
 "nbformat": 4,
 "nbformat_minor": 5
}
