{
 "cells": [
  {
   "cell_type": "code",
   "execution_count": 4,
   "id": "23a95c96",
   "metadata": {},
   "outputs": [],
   "source": [
    "import os\n",
    "import sys\n",
    "import requests\n",
    "import pandas as pd"
   ]
  },
  {
   "cell_type": "code",
   "execution_count": 2,
   "id": "5d7c669a",
   "metadata": {},
   "outputs": [
    {
     "name": "stdout",
     "output_type": "stream",
     "text": [
      "Requirement already satisfied: requests in c:\\users\\91832\\anaconda3\\lib\\site-packages (2.26.0)\n",
      "Requirement already satisfied: idna<4,>=2.5 in c:\\users\\91832\\anaconda3\\lib\\site-packages (from requests) (3.2)\n",
      "Requirement already satisfied: certifi>=2017.4.17 in c:\\users\\91832\\anaconda3\\lib\\site-packages (from requests) (2021.10.8)\n",
      "Requirement already satisfied: charset-normalizer~=2.0.0 in c:\\users\\91832\\anaconda3\\lib\\site-packages (from requests) (2.0.4)\n",
      "Requirement already satisfied: urllib3<1.27,>=1.21.1 in c:\\users\\91832\\anaconda3\\lib\\site-packages (from requests) (1.26.7)\n"
     ]
    }
   ],
   "source": [
    "!pip install requests"
   ]
  },
  {
   "cell_type": "code",
   "execution_count": 3,
   "id": "74d0301f",
   "metadata": {},
   "outputs": [],
   "source": [
    "def get_html(start_year,end_year):\n",
    "    for year in range(start_year,end_year+1):\n",
    "        for month in range(1,13):\n",
    "            if month < 10:\n",
    "                url=f\"https://en.tutiempo.net/climate/0{month}-{year}/ws-421820.html\"\n",
    "            else:\n",
    "                url=f\"https://en.tutiempo.net/climate/{month}-{year}/ws-421820.html\"\n",
    "            data=requests.get(url).text                \n",
    "            if not os.path.exists(f'data/html_data/{year}'):\n",
    "                os.makedirs(f'data/html_data/{year}')\n",
    "            with open(f'data/html_data/{year}/{month}.html',\"w\") as f:\n",
    "                f.write(data)"
   ]
  },
  {
   "cell_type": "code",
   "execution_count": 5,
   "id": "1b9aefb6",
   "metadata": {},
   "outputs": [],
   "source": [
    "get_html(2013,2018)"
   ]
  },
  {
   "cell_type": "code",
   "execution_count": 49,
   "id": "55d05404",
   "metadata": {},
   "outputs": [],
   "source": [
    "#create the target variable\n"
   ]
  },
  {
   "cell_type": "code",
   "execution_count": 9,
   "id": "54b8afcc",
   "metadata": {},
   "outputs": [],
   "source": [
    "def avg_data_2014():\n",
    "    average = []\n",
    "    for rows in pd.read_csv(\"AQI/aqi2014.csv\",chunksize=24):\n",
    "        data=[]\n",
    "        add_var=0\n",
    "        df=pd.DataFrame(rows)\n",
    "        for _ , row in df.iterrows():\n",
    "            data.append(row['PM2.5'])\n",
    "\n",
    "        for value in data:\n",
    "            if type(value) in [float,int]:\n",
    "                add_var += value\n",
    "            elif type(value) is str:\n",
    "                if value not in ['NoData',\"PwrFail\",\"---\",\"InVld\"]:\n",
    "                    add_var += float(value)\n",
    "        hr_avg=add_var/24\n",
    "\n",
    "        average.append(hr_avg)\n",
    "\n",
    "    return average\n",
    "\n",
    "def avg_data_2015():\n",
    "    average = []\n",
    "    for rows in pd.read_csv(\"AQI/aqi2015.csv\",chunksize=24):\n",
    "        data=[]\n",
    "        add_var=0\n",
    "        df=pd.DataFrame(rows)\n",
    "        for _ , row in df.iterrows():\n",
    "            data.append(row['PM2.5'])\n",
    "\n",
    "        for value in data:\n",
    "            if type(value) in [float,int]:\n",
    "                add_var += value\n",
    "            elif type(value) is str:\n",
    "                if value not in ['NoData',\"PwrFail\",\"---\",\"InVld\"]:\n",
    "                    add_var += float(value)\n",
    "        hr_avg=add_var/24\n",
    "\n",
    "        average.append(hr_avg)\n",
    "\n",
    "    return average\n",
    "\n",
    "def avg_data_2016():\n",
    "    average = []\n",
    "    for rows in pd.read_csv(\"AQI/aqi2016.csv\",chunksize=24):\n",
    "        data=[]\n",
    "        add_var=0\n",
    "        df=pd.DataFrame(rows)\n",
    "        for _ , row in df.iterrows():\n",
    "            data.append(row['PM2.5'])\n",
    "\n",
    "        for value in data:\n",
    "            if type(value) in [float,int]:\n",
    "                add_var += value\n",
    "            elif type(value) is str:\n",
    "                if value not in ['NoData',\"PwrFail\",\"---\",\"InVld\"]:\n",
    "                    add_var += float(value)\n",
    "        hr_avg=add_var/24\n",
    "\n",
    "        average.append(hr_avg)\n",
    "\n",
    "    return average\n",
    "\n",
    "def avg_data_2017():\n",
    "    average = []\n",
    "    for rows in pd.read_csv(\"AQI/aqi2017.csv\",chunksize=24):\n",
    "        data=[]\n",
    "        add_var=0\n",
    "        df=pd.DataFrame(rows)\n",
    "        for _ , row in df.iterrows():\n",
    "            data.append(row['PM2.5'])\n",
    "\n",
    "        for value in data:\n",
    "            if type(value) in [float,int]:\n",
    "                add_var += value\n",
    "            elif type(value) is str:\n",
    "                if value not in ['NoData',\"PwrFail\",\"---\",\"InVld\"]:\n",
    "                    add_var += float(value)\n",
    "        hr_avg=add_var/24\n",
    "\n",
    "        average.append(hr_avg)\n",
    "\n",
    "    return average"
   ]
  },
  {
   "cell_type": "code",
   "execution_count": null,
   "id": "3645d22f",
   "metadata": {},
   "outputs": [],
   "source": []
  }
 ],
 "metadata": {
  "kernelspec": {
   "display_name": "Python 3 (ipykernel)",
   "language": "python",
   "name": "python3"
  },
  "language_info": {
   "codemirror_mode": {
    "name": "ipython",
    "version": 3
   },
   "file_extension": ".py",
   "mimetype": "text/x-python",
   "name": "python",
   "nbconvert_exporter": "python",
   "pygments_lexer": "ipython3",
   "version": "3.9.7"
  }
 },
 "nbformat": 4,
 "nbformat_minor": 5
}
